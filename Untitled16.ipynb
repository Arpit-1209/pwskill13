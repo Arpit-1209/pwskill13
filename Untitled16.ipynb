{
 "cells": [
  {
   "cell_type": "markdown",
   "id": "701d3e1e-51cf-4b56-b2d0-8a1f017b5156",
   "metadata": {},
   "source": [
    "1. How do you install Detectron2 using pip and check the version of Detectron2?\n",
    "Install Detectron2 with the following command:"
   ]
  },
  {
   "cell_type": "code",
   "execution_count": 19,
   "id": "d270fce1-1b3c-4f66-9eb8-da9643da3d0e",
   "metadata": {},
   "outputs": [
    {
     "name": "stderr",
     "output_type": "stream",
     "text": [
      "ERROR: Could not find a version that satisfies the requirement pkg_resources (from versions: none)\n",
      "ERROR: No matching distribution found for pkg_resources\n"
     ]
    }
   ],
   "source": [
    "# in bash\n",
    "#pip install detectron2 -f https://dl.fbaipublicfiles.com/detectron2/wheels/cu113/torch1.10/index.html"
   ]
  },
  {
   "cell_type": "code",
   "execution_count": null,
   "id": "62a45f22-708f-4f20-9136-4f90e61b1f13",
   "metadata": {},
   "outputs": [],
   "source": [
    "import detectron2\n",
    "print(detectron2.__version__)\n"
   ]
  },
  {
   "cell_type": "markdown",
   "id": "b17e63a0-a885-4b6e-8829-f203c360868a",
   "metadata": {},
   "source": [
    "2. How do you perform inference with Detectron2 using an online image?"
   ]
  },
  {
   "cell_type": "code",
   "execution_count": null,
   "id": "fe89c1d3-57a9-4ae8-8ad9-5edc4f781cd1",
   "metadata": {},
   "outputs": [],
   "source": [
    "import requests\n",
    "from PIL import Image\n",
    "from io import BytesIO\n",
    "from detectron2.engine import DefaultPredictor\n",
    "from detectron2.config import get_cfg\n",
    "from detectron2.utils.visualizer import Visualizer\n",
    "\n",
    "# Download an online image\n",
    "url = 'https://media.istockphoto.com/id/2039918088/photo/happy-african-american-woman-using-tablet-on-a-cozy-sofa-at-home.jpg?s=1024x1024&w=is&k=20&c=-rdFcTOcILfROUzuBoVmZbEaNAApqSRXjblyHz6CeOY='\n",
    "response = requests.get(url)\n",
    "image = Image.open(BytesIO(response.content))\n",
    "\n",
    "# Load Detectron2 configuration and model\n",
    "cfg = get_cfg()\n",
    "cfg.MODEL.WEIGHTS = \"model_final.pth\"  # Path to trained weights\n",
    "cfg.MODEL.ROI_HEADS.SCORE_THRESH_TEST = 0.5  # Confidence threshold\n",
    "predictor = DefaultPredictor(cfg)\n",
    "\n",
    "# Perform inference\n",
    "image_array = np.array(image)\n",
    "outputs = predictor(image_array)\n",
    "\n",
    "# Visualize\n",
    "visualizer = Visualizer(image_array)\n",
    "out = visualizer.draw_instance_predictions(outputs[\"instances\"].to(\"cpu\"))\n",
    "Image.fromarray(out.get_image())\n"
   ]
  },
  {
   "cell_type": "markdown",
   "id": "4cc7ee34-e620-484a-9a27-6985d87a1669",
   "metadata": {},
   "source": [
    "3. How do you visualize evaluation metrics in Detectron2, such as training loss?\n",
    "Use tensorboard for monitoring:"
   ]
  },
  {
   "cell_type": "code",
   "execution_count": null,
   "id": "d4a3f947-7a1b-4c74-984a-ca81bcaafcda",
   "metadata": {},
   "outputs": [],
   "source": [
    "#Start training with logging enabled:\n",
    "python train_net.py --config-file config.yaml --output output/\n",
    "\n",
    "#Open TensorBoard:\n",
    "tensorboard --logdir output/\n",
    "\n",
    "#Navigate to localhost:6006 in your browser to visualize metrics like loss."
   ]
  },
  {
   "cell_type": "markdown",
   "id": "7e7efc8e-5335-4bfb-96c8-aadd593531a2",
   "metadata": {},
   "source": [
    "4. How do you run inference with TFOD2 on an online image?"
   ]
  },
  {
   "cell_type": "code",
   "execution_count": 23,
   "id": "0c7c4015-997c-40c2-a714-672292a16250",
   "metadata": {},
   "outputs": [
    {
     "name": "stdout",
     "output_type": "stream",
     "text": [
      "Collecting object_detection\n",
      "  Downloading object_detection-0.0.3-py3-none-any.whl.metadata (12 kB)\n",
      "Requirement already satisfied: tensorflow in c:\\users\\arpit srivastava\\appdata\\local\\programs\\python\\python310\\lib\\site-packages (from object_detection) (2.18.0)\n",
      "Collecting Cython (from object_detection)\n",
      "  Downloading Cython-3.0.11-cp310-cp310-win_amd64.whl.metadata (3.2 kB)\n",
      "Collecting contextlib2 (from object_detection)\n",
      "  Downloading contextlib2-21.6.0-py2.py3-none-any.whl.metadata (4.1 kB)\n",
      "Requirement already satisfied: pillow in c:\\users\\arpit srivastava\\appdata\\local\\programs\\python\\python310\\lib\\site-packages (from object_detection) (10.4.0)\n",
      "Collecting lxml (from object_detection)\n",
      "  Downloading lxml-5.3.0-cp310-cp310-win_amd64.whl.metadata (3.9 kB)\n",
      "Requirement already satisfied: jupyter in c:\\users\\arpit srivastava\\appdata\\local\\programs\\python\\python310\\lib\\site-packages (from object_detection) (1.0.0)\n",
      "Requirement already satisfied: matplotlib in c:\\users\\arpit srivastava\\appdata\\local\\programs\\python\\python310\\lib\\site-packages (from object_detection) (3.9.1)\n",
      "Requirement already satisfied: notebook in c:\\users\\arpit srivastava\\appdata\\local\\programs\\python\\python310\\lib\\site-packages (from jupyter->object_detection) (7.2.1)\n",
      "Requirement already satisfied: qtconsole in c:\\users\\arpit srivastava\\appdata\\local\\programs\\python\\python310\\lib\\site-packages (from jupyter->object_detection) (5.5.2)\n",
      "Requirement already satisfied: jupyter-console in c:\\users\\arpit srivastava\\appdata\\local\\programs\\python\\python310\\lib\\site-packages (from jupyter->object_detection) (6.6.3)\n",
      "Requirement already satisfied: nbconvert in c:\\users\\arpit srivastava\\appdata\\local\\programs\\python\\python310\\lib\\site-packages (from jupyter->object_detection) (7.16.4)\n",
      "Requirement already satisfied: ipykernel in c:\\users\\arpit srivastava\\appdata\\local\\programs\\python\\python310\\lib\\site-packages (from jupyter->object_detection) (6.29.5)\n",
      "Requirement already satisfied: ipywidgets in c:\\users\\arpit srivastava\\appdata\\local\\programs\\python\\python310\\lib\\site-packages (from jupyter->object_detection) (8.1.3)\n",
      "Requirement already satisfied: contourpy>=1.0.1 in c:\\users\\arpit srivastava\\appdata\\local\\programs\\python\\python310\\lib\\site-packages (from matplotlib->object_detection) (1.2.1)\n",
      "Requirement already satisfied: cycler>=0.10 in c:\\users\\arpit srivastava\\appdata\\local\\programs\\python\\python310\\lib\\site-packages (from matplotlib->object_detection) (0.12.1)\n",
      "Requirement already satisfied: fonttools>=4.22.0 in c:\\users\\arpit srivastava\\appdata\\local\\programs\\python\\python310\\lib\\site-packages (from matplotlib->object_detection) (4.53.1)\n",
      "Requirement already satisfied: kiwisolver>=1.3.1 in c:\\users\\arpit srivastava\\appdata\\local\\programs\\python\\python310\\lib\\site-packages (from matplotlib->object_detection) (1.4.5)\n",
      "Requirement already satisfied: numpy>=1.23 in c:\\users\\arpit srivastava\\appdata\\local\\programs\\python\\python310\\lib\\site-packages (from matplotlib->object_detection) (2.0.2)\n",
      "Requirement already satisfied: packaging>=20.0 in c:\\users\\arpit srivastava\\appdata\\local\\programs\\python\\python310\\lib\\site-packages (from matplotlib->object_detection) (24.1)\n",
      "Requirement already satisfied: pyparsing>=2.3.1 in c:\\users\\arpit srivastava\\appdata\\local\\programs\\python\\python310\\lib\\site-packages (from matplotlib->object_detection) (3.1.2)\n",
      "Requirement already satisfied: python-dateutil>=2.7 in c:\\users\\arpit srivastava\\appdata\\local\\programs\\python\\python310\\lib\\site-packages (from matplotlib->object_detection) (2.8.2)\n",
      "Requirement already satisfied: tensorflow-intel==2.18.0 in c:\\users\\arpit srivastava\\appdata\\local\\programs\\python\\python310\\lib\\site-packages (from tensorflow->object_detection) (2.18.0)\n",
      "Requirement already satisfied: absl-py>=1.0.0 in c:\\users\\arpit srivastava\\appdata\\local\\programs\\python\\python310\\lib\\site-packages (from tensorflow-intel==2.18.0->tensorflow->object_detection) (2.1.0)\n",
      "Requirement already satisfied: astunparse>=1.6.0 in c:\\users\\arpit srivastava\\appdata\\local\\programs\\python\\python310\\lib\\site-packages (from tensorflow-intel==2.18.0->tensorflow->object_detection) (1.6.3)\n",
      "Requirement already satisfied: flatbuffers>=24.3.25 in c:\\users\\arpit srivastava\\appdata\\local\\programs\\python\\python310\\lib\\site-packages (from tensorflow-intel==2.18.0->tensorflow->object_detection) (24.3.25)\n",
      "Requirement already satisfied: gast!=0.5.0,!=0.5.1,!=0.5.2,>=0.2.1 in c:\\users\\arpit srivastava\\appdata\\local\\programs\\python\\python310\\lib\\site-packages (from tensorflow-intel==2.18.0->tensorflow->object_detection) (0.6.0)\n",
      "Requirement already satisfied: google-pasta>=0.1.1 in c:\\users\\arpit srivastava\\appdata\\local\\programs\\python\\python310\\lib\\site-packages (from tensorflow-intel==2.18.0->tensorflow->object_detection) (0.2.0)\n",
      "Requirement already satisfied: libclang>=13.0.0 in c:\\users\\arpit srivastava\\appdata\\local\\programs\\python\\python310\\lib\\site-packages (from tensorflow-intel==2.18.0->tensorflow->object_detection) (18.1.1)\n",
      "Requirement already satisfied: opt-einsum>=2.3.2 in c:\\users\\arpit srivastava\\appdata\\local\\programs\\python\\python310\\lib\\site-packages (from tensorflow-intel==2.18.0->tensorflow->object_detection) (3.4.0)\n",
      "Requirement already satisfied: protobuf!=4.21.0,!=4.21.1,!=4.21.2,!=4.21.3,!=4.21.4,!=4.21.5,<6.0.0dev,>=3.20.3 in c:\\users\\arpit srivastava\\appdata\\local\\programs\\python\\python310\\lib\\site-packages (from tensorflow-intel==2.18.0->tensorflow->object_detection) (5.28.3)\n",
      "Requirement already satisfied: requests<3,>=2.21.0 in c:\\users\\arpit srivastava\\appdata\\local\\programs\\python\\python310\\lib\\site-packages (from tensorflow-intel==2.18.0->tensorflow->object_detection) (2.32.3)\n",
      "Requirement already satisfied: setuptools in c:\\users\\arpit srivastava\\appdata\\local\\programs\\python\\python310\\lib\\site-packages (from tensorflow-intel==2.18.0->tensorflow->object_detection) (57.4.0)\n",
      "Requirement already satisfied: six>=1.12.0 in c:\\users\\arpit srivastava\\appdata\\local\\programs\\python\\python310\\lib\\site-packages (from tensorflow-intel==2.18.0->tensorflow->object_detection) (1.16.0)\n",
      "Requirement already satisfied: termcolor>=1.1.0 in c:\\users\\arpit srivastava\\appdata\\local\\programs\\python\\python310\\lib\\site-packages (from tensorflow-intel==2.18.0->tensorflow->object_detection) (2.5.0)\n",
      "Requirement already satisfied: typing-extensions>=3.6.6 in c:\\users\\arpit srivastava\\appdata\\local\\programs\\python\\python310\\lib\\site-packages (from tensorflow-intel==2.18.0->tensorflow->object_detection) (4.12.2)\n",
      "Requirement already satisfied: wrapt>=1.11.0 in c:\\users\\arpit srivastava\\appdata\\local\\programs\\python\\python310\\lib\\site-packages (from tensorflow-intel==2.18.0->tensorflow->object_detection) (1.16.0)\n",
      "Requirement already satisfied: grpcio<2.0,>=1.24.3 in c:\\users\\arpit srivastava\\appdata\\local\\programs\\python\\python310\\lib\\site-packages (from tensorflow-intel==2.18.0->tensorflow->object_detection) (1.67.1)\n",
      "Requirement already satisfied: tensorboard<2.19,>=2.18 in c:\\users\\arpit srivastava\\appdata\\local\\programs\\python\\python310\\lib\\site-packages (from tensorflow-intel==2.18.0->tensorflow->object_detection) (2.18.0)\n",
      "Requirement already satisfied: keras>=3.5.0 in c:\\users\\arpit srivastava\\appdata\\local\\programs\\python\\python310\\lib\\site-packages (from tensorflow-intel==2.18.0->tensorflow->object_detection) (3.6.0)\n",
      "Requirement already satisfied: h5py>=3.11.0 in c:\\users\\arpit srivastava\\appdata\\local\\programs\\python\\python310\\lib\\site-packages (from tensorflow-intel==2.18.0->tensorflow->object_detection) (3.12.1)\n",
      "Requirement already satisfied: ml-dtypes<0.5.0,>=0.4.0 in c:\\users\\arpit srivastava\\appdata\\local\\programs\\python\\python310\\lib\\site-packages (from tensorflow-intel==2.18.0->tensorflow->object_detection) (0.4.1)\n",
      "Requirement already satisfied: tensorflow-io-gcs-filesystem>=0.23.1 in c:\\users\\arpit srivastava\\appdata\\local\\programs\\python\\python310\\lib\\site-packages (from tensorflow-intel==2.18.0->tensorflow->object_detection) (0.31.0)\n",
      "Requirement already satisfied: comm>=0.1.1 in c:\\users\\arpit srivastava\\appdata\\local\\programs\\python\\python310\\lib\\site-packages (from ipykernel->jupyter->object_detection) (0.2.2)\n",
      "Requirement already satisfied: debugpy>=1.6.5 in c:\\users\\arpit srivastava\\appdata\\local\\programs\\python\\python310\\lib\\site-packages (from ipykernel->jupyter->object_detection) (1.8.2)\n",
      "Requirement already satisfied: ipython>=7.23.1 in c:\\users\\arpit srivastava\\appdata\\local\\programs\\python\\python310\\lib\\site-packages (from ipykernel->jupyter->object_detection) (8.26.0)\n",
      "Requirement already satisfied: jupyter-client>=6.1.12 in c:\\users\\arpit srivastava\\appdata\\local\\programs\\python\\python310\\lib\\site-packages (from ipykernel->jupyter->object_detection) (8.6.2)\n",
      "Requirement already satisfied: jupyter-core!=5.0.*,>=4.12 in c:\\users\\arpit srivastava\\appdata\\local\\programs\\python\\python310\\lib\\site-packages (from ipykernel->jupyter->object_detection) (5.7.2)\n",
      "Requirement already satisfied: matplotlib-inline>=0.1 in c:\\users\\arpit srivastava\\appdata\\local\\programs\\python\\python310\\lib\\site-packages (from ipykernel->jupyter->object_detection) (0.1.7)\n",
      "Requirement already satisfied: nest-asyncio in c:\\users\\arpit srivastava\\appdata\\local\\programs\\python\\python310\\lib\\site-packages (from ipykernel->jupyter->object_detection) (1.6.0)\n",
      "Requirement already satisfied: psutil in c:\\users\\arpit srivastava\\appdata\\local\\programs\\python\\python310\\lib\\site-packages (from ipykernel->jupyter->object_detection) (6.0.0)\n",
      "Requirement already satisfied: pyzmq>=24 in c:\\users\\arpit srivastava\\appdata\\local\\programs\\python\\python310\\lib\\site-packages (from ipykernel->jupyter->object_detection) (26.0.3)\n",
      "Requirement already satisfied: tornado>=6.1 in c:\\users\\arpit srivastava\\appdata\\local\\programs\\python\\python310\\lib\\site-packages (from ipykernel->jupyter->object_detection) (6.4.1)\n",
      "Requirement already satisfied: traitlets>=5.4.0 in c:\\users\\arpit srivastava\\appdata\\local\\programs\\python\\python310\\lib\\site-packages (from ipykernel->jupyter->object_detection) (5.14.3)\n",
      "Requirement already satisfied: widgetsnbextension~=4.0.11 in c:\\users\\arpit srivastava\\appdata\\local\\programs\\python\\python310\\lib\\site-packages (from ipywidgets->jupyter->object_detection) (4.0.11)\n",
      "Requirement already satisfied: jupyterlab-widgets~=3.0.11 in c:\\users\\arpit srivastava\\appdata\\local\\programs\\python\\python310\\lib\\site-packages (from ipywidgets->jupyter->object_detection) (3.0.11)\n",
      "Requirement already satisfied: prompt-toolkit>=3.0.30 in c:\\users\\arpit srivastava\\appdata\\local\\programs\\python\\python310\\lib\\site-packages (from jupyter-console->jupyter->object_detection) (3.0.47)\n",
      "Requirement already satisfied: pygments in c:\\users\\arpit srivastava\\appdata\\local\\programs\\python\\python310\\lib\\site-packages (from jupyter-console->jupyter->object_detection) (2.18.0)\n",
      "Requirement already satisfied: beautifulsoup4 in c:\\users\\arpit srivastava\\appdata\\local\\programs\\python\\python310\\lib\\site-packages (from nbconvert->jupyter->object_detection) (4.12.3)\n",
      "Requirement already satisfied: bleach!=5.0.0 in c:\\users\\arpit srivastava\\appdata\\local\\programs\\python\\python310\\lib\\site-packages (from nbconvert->jupyter->object_detection) (6.1.0)\n",
      "Requirement already satisfied: defusedxml in c:\\users\\arpit srivastava\\appdata\\local\\programs\\python\\python310\\lib\\site-packages (from nbconvert->jupyter->object_detection) (0.7.1)\n",
      "Requirement already satisfied: jinja2>=3.0 in c:\\users\\arpit srivastava\\appdata\\local\\programs\\python\\python310\\lib\\site-packages (from nbconvert->jupyter->object_detection) (3.1.4)\n",
      "Requirement already satisfied: jupyterlab-pygments in c:\\users\\arpit srivastava\\appdata\\local\\programs\\python\\python310\\lib\\site-packages (from nbconvert->jupyter->object_detection) (0.3.0)\n",
      "Requirement already satisfied: markupsafe>=2.0 in c:\\users\\arpit srivastava\\appdata\\local\\programs\\python\\python310\\lib\\site-packages (from nbconvert->jupyter->object_detection) (2.1.5)\n",
      "Requirement already satisfied: mistune<4,>=2.0.3 in c:\\users\\arpit srivastava\\appdata\\local\\programs\\python\\python310\\lib\\site-packages (from nbconvert->jupyter->object_detection) (3.0.2)\n",
      "Requirement already satisfied: nbclient>=0.5.0 in c:\\users\\arpit srivastava\\appdata\\local\\programs\\python\\python310\\lib\\site-packages (from nbconvert->jupyter->object_detection) (0.10.0)\n",
      "Requirement already satisfied: nbformat>=5.7 in c:\\users\\arpit srivastava\\appdata\\local\\programs\\python\\python310\\lib\\site-packages (from nbconvert->jupyter->object_detection) (5.10.4)\n",
      "Requirement already satisfied: pandocfilters>=1.4.1 in c:\\users\\arpit srivastava\\appdata\\local\\programs\\python\\python310\\lib\\site-packages (from nbconvert->jupyter->object_detection) (1.5.1)\n",
      "Requirement already satisfied: tinycss2 in c:\\users\\arpit srivastava\\appdata\\local\\programs\\python\\python310\\lib\\site-packages (from nbconvert->jupyter->object_detection) (1.3.0)\n",
      "Requirement already satisfied: jupyter-server<3,>=2.4.0 in c:\\users\\arpit srivastava\\appdata\\local\\programs\\python\\python310\\lib\\site-packages (from notebook->jupyter->object_detection) (2.14.1)\n",
      "Requirement already satisfied: jupyterlab-server<3,>=2.27.1 in c:\\users\\arpit srivastava\\appdata\\local\\programs\\python\\python310\\lib\\site-packages (from notebook->jupyter->object_detection) (2.27.2)\n",
      "Requirement already satisfied: jupyterlab<4.3,>=4.2.0 in c:\\users\\arpit srivastava\\appdata\\local\\programs\\python\\python310\\lib\\site-packages (from notebook->jupyter->object_detection) (4.2.3)\n",
      "Requirement already satisfied: notebook-shim<0.3,>=0.2 in c:\\users\\arpit srivastava\\appdata\\local\\programs\\python\\python310\\lib\\site-packages (from notebook->jupyter->object_detection) (0.2.4)\n",
      "Requirement already satisfied: qtpy>=2.4.0 in c:\\users\\arpit srivastava\\appdata\\local\\programs\\python\\python310\\lib\\site-packages (from qtconsole->jupyter->object_detection) (2.4.1)\n",
      "Requirement already satisfied: wheel<1.0,>=0.23.0 in c:\\users\\arpit srivastava\\appdata\\local\\programs\\python\\python310\\lib\\site-packages (from astunparse>=1.6.0->tensorflow-intel==2.18.0->tensorflow->object_detection) (0.44.0)\n",
      "Requirement already satisfied: webencodings in c:\\users\\arpit srivastava\\appdata\\local\\programs\\python\\python310\\lib\\site-packages (from bleach!=5.0.0->nbconvert->jupyter->object_detection) (0.5.1)\n",
      "Requirement already satisfied: decorator in c:\\users\\arpit srivastava\\appdata\\local\\programs\\python\\python310\\lib\\site-packages (from ipython>=7.23.1->ipykernel->jupyter->object_detection) (5.1.1)\n",
      "Requirement already satisfied: jedi>=0.16 in c:\\users\\arpit srivastava\\appdata\\local\\programs\\python\\python310\\lib\\site-packages (from ipython>=7.23.1->ipykernel->jupyter->object_detection) (0.19.1)\n",
      "Requirement already satisfied: stack-data in c:\\users\\arpit srivastava\\appdata\\local\\programs\\python\\python310\\lib\\site-packages (from ipython>=7.23.1->ipykernel->jupyter->object_detection) (0.6.3)\n",
      "Requirement already satisfied: exceptiongroup in c:\\users\\arpit srivastava\\appdata\\local\\programs\\python\\python310\\lib\\site-packages (from ipython>=7.23.1->ipykernel->jupyter->object_detection) (1.2.1)\n",
      "Requirement already satisfied: colorama in c:\\users\\arpit srivastava\\appdata\\local\\programs\\python\\python310\\lib\\site-packages (from ipython>=7.23.1->ipykernel->jupyter->object_detection) (0.4.6)\n",
      "Requirement already satisfied: platformdirs>=2.5 in c:\\users\\arpit srivastava\\appdata\\local\\programs\\python\\python310\\lib\\site-packages (from jupyter-core!=5.0.*,>=4.12->ipykernel->jupyter->object_detection) (4.2.2)\n",
      "Requirement already satisfied: pywin32>=300 in c:\\users\\arpit srivastava\\appdata\\local\\programs\\python\\python310\\lib\\site-packages (from jupyter-core!=5.0.*,>=4.12->ipykernel->jupyter->object_detection) (306)\n",
      "Requirement already satisfied: anyio>=3.1.0 in c:\\users\\arpit srivastava\\appdata\\local\\programs\\python\\python310\\lib\\site-packages (from jupyter-server<3,>=2.4.0->notebook->jupyter->object_detection) (4.4.0)\n",
      "Requirement already satisfied: argon2-cffi>=21.1 in c:\\users\\arpit srivastava\\appdata\\local\\programs\\python\\python310\\lib\\site-packages (from jupyter-server<3,>=2.4.0->notebook->jupyter->object_detection) (23.1.0)\n",
      "Requirement already satisfied: jupyter-events>=0.9.0 in c:\\users\\arpit srivastava\\appdata\\local\\programs\\python\\python310\\lib\\site-packages (from jupyter-server<3,>=2.4.0->notebook->jupyter->object_detection) (0.10.0)\n",
      "Requirement already satisfied: jupyter-server-terminals>=0.4.4 in c:\\users\\arpit srivastava\\appdata\\local\\programs\\python\\python310\\lib\\site-packages (from jupyter-server<3,>=2.4.0->notebook->jupyter->object_detection) (0.5.3)\n",
      "Requirement already satisfied: overrides>=5.0 in c:\\users\\arpit srivastava\\appdata\\local\\programs\\python\\python310\\lib\\site-packages (from jupyter-server<3,>=2.4.0->notebook->jupyter->object_detection) (7.7.0)\n",
      "Requirement already satisfied: prometheus-client>=0.9 in c:\\users\\arpit srivastava\\appdata\\local\\programs\\python\\python310\\lib\\site-packages (from jupyter-server<3,>=2.4.0->notebook->jupyter->object_detection) (0.20.0)\n",
      "Requirement already satisfied: pywinpty>=2.0.1 in c:\\users\\arpit srivastava\\appdata\\local\\programs\\python\\python310\\lib\\site-packages (from jupyter-server<3,>=2.4.0->notebook->jupyter->object_detection) (2.0.13)\n",
      "Requirement already satisfied: send2trash>=1.8.2 in c:\\users\\arpit srivastava\\appdata\\local\\programs\\python\\python310\\lib\\site-packages (from jupyter-server<3,>=2.4.0->notebook->jupyter->object_detection) (1.8.3)\n",
      "Requirement already satisfied: terminado>=0.8.3 in c:\\users\\arpit srivastava\\appdata\\local\\programs\\python\\python310\\lib\\site-packages (from jupyter-server<3,>=2.4.0->notebook->jupyter->object_detection) (0.18.1)\n",
      "Requirement already satisfied: websocket-client>=1.7 in c:\\users\\arpit srivastava\\appdata\\local\\programs\\python\\python310\\lib\\site-packages (from jupyter-server<3,>=2.4.0->notebook->jupyter->object_detection) (1.8.0)\n",
      "Requirement already satisfied: async-lru>=1.0.0 in c:\\users\\arpit srivastava\\appdata\\local\\programs\\python\\python310\\lib\\site-packages (from jupyterlab<4.3,>=4.2.0->notebook->jupyter->object_detection) (2.0.4)\n",
      "Requirement already satisfied: httpx>=0.25.0 in c:\\users\\arpit srivastava\\appdata\\local\\programs\\python\\python310\\lib\\site-packages (from jupyterlab<4.3,>=4.2.0->notebook->jupyter->object_detection) (0.27.0)\n",
      "Requirement already satisfied: jupyter-lsp>=2.0.0 in c:\\users\\arpit srivastava\\appdata\\local\\programs\\python\\python310\\lib\\site-packages (from jupyterlab<4.3,>=4.2.0->notebook->jupyter->object_detection) (2.2.5)\n",
      "Requirement already satisfied: tomli>=1.2.2 in c:\\users\\arpit srivastava\\appdata\\local\\programs\\python\\python310\\lib\\site-packages (from jupyterlab<4.3,>=4.2.0->notebook->jupyter->object_detection) (2.0.1)\n",
      "Requirement already satisfied: babel>=2.10 in c:\\users\\arpit srivastava\\appdata\\local\\programs\\python\\python310\\lib\\site-packages (from jupyterlab-server<3,>=2.27.1->notebook->jupyter->object_detection) (2.15.0)\n",
      "Requirement already satisfied: json5>=0.9.0 in c:\\users\\arpit srivastava\\appdata\\local\\programs\\python\\python310\\lib\\site-packages (from jupyterlab-server<3,>=2.27.1->notebook->jupyter->object_detection) (0.9.25)\n",
      "Requirement already satisfied: jsonschema>=4.18.0 in c:\\users\\arpit srivastava\\appdata\\local\\programs\\python\\python310\\lib\\site-packages (from jupyterlab-server<3,>=2.27.1->notebook->jupyter->object_detection) (4.23.0)\n",
      "Requirement already satisfied: rich in c:\\users\\arpit srivastava\\appdata\\local\\programs\\python\\python310\\lib\\site-packages (from keras>=3.5.0->tensorflow-intel==2.18.0->tensorflow->object_detection) (13.9.4)\n",
      "Requirement already satisfied: namex in c:\\users\\arpit srivastava\\appdata\\local\\programs\\python\\python310\\lib\\site-packages (from keras>=3.5.0->tensorflow-intel==2.18.0->tensorflow->object_detection) (0.0.8)\n",
      "Requirement already satisfied: optree in c:\\users\\arpit srivastava\\appdata\\local\\programs\\python\\python310\\lib\\site-packages (from keras>=3.5.0->tensorflow-intel==2.18.0->tensorflow->object_detection) (0.13.0)\n",
      "Requirement already satisfied: fastjsonschema>=2.15 in c:\\users\\arpit srivastava\\appdata\\local\\programs\\python\\python310\\lib\\site-packages (from nbformat>=5.7->nbconvert->jupyter->object_detection) (2.20.0)\n",
      "Requirement already satisfied: wcwidth in c:\\users\\arpit srivastava\\appdata\\local\\programs\\python\\python310\\lib\\site-packages (from prompt-toolkit>=3.0.30->jupyter-console->jupyter->object_detection) (0.2.13)\n",
      "Requirement already satisfied: charset-normalizer<4,>=2 in c:\\users\\arpit srivastava\\appdata\\local\\programs\\python\\python310\\lib\\site-packages (from requests<3,>=2.21.0->tensorflow-intel==2.18.0->tensorflow->object_detection) (3.3.2)\n",
      "Requirement already satisfied: idna<4,>=2.5 in c:\\users\\arpit srivastava\\appdata\\local\\programs\\python\\python310\\lib\\site-packages (from requests<3,>=2.21.0->tensorflow-intel==2.18.0->tensorflow->object_detection) (3.7)\n",
      "Requirement already satisfied: urllib3<3,>=1.21.1 in c:\\users\\arpit srivastava\\appdata\\local\\programs\\python\\python310\\lib\\site-packages (from requests<3,>=2.21.0->tensorflow-intel==2.18.0->tensorflow->object_detection) (2.2.2)\n",
      "Requirement already satisfied: certifi>=2017.4.17 in c:\\users\\arpit srivastava\\appdata\\local\\programs\\python\\python310\\lib\\site-packages (from requests<3,>=2.21.0->tensorflow-intel==2.18.0->tensorflow->object_detection) (2024.7.4)\n",
      "Requirement already satisfied: markdown>=2.6.8 in c:\\users\\arpit srivastava\\appdata\\local\\programs\\python\\python310\\lib\\site-packages (from tensorboard<2.19,>=2.18->tensorflow-intel==2.18.0->tensorflow->object_detection) (3.7)\n",
      "Requirement already satisfied: tensorboard-data-server<0.8.0,>=0.7.0 in c:\\users\\arpit srivastava\\appdata\\local\\programs\\python\\python310\\lib\\site-packages (from tensorboard<2.19,>=2.18->tensorflow-intel==2.18.0->tensorflow->object_detection) (0.7.2)\n",
      "Requirement already satisfied: werkzeug>=1.0.1 in c:\\users\\arpit srivastava\\appdata\\local\\programs\\python\\python310\\lib\\site-packages (from tensorboard<2.19,>=2.18->tensorflow-intel==2.18.0->tensorflow->object_detection) (3.1.2)\n",
      "Requirement already satisfied: soupsieve>1.2 in c:\\users\\arpit srivastava\\appdata\\local\\programs\\python\\python310\\lib\\site-packages (from beautifulsoup4->nbconvert->jupyter->object_detection) (2.5)\n",
      "Requirement already satisfied: sniffio>=1.1 in c:\\users\\arpit srivastava\\appdata\\local\\programs\\python\\python310\\lib\\site-packages (from anyio>=3.1.0->jupyter-server<3,>=2.4.0->notebook->jupyter->object_detection) (1.3.1)\n",
      "Requirement already satisfied: argon2-cffi-bindings in c:\\users\\arpit srivastava\\appdata\\local\\programs\\python\\python310\\lib\\site-packages (from argon2-cffi>=21.1->jupyter-server<3,>=2.4.0->notebook->jupyter->object_detection) (21.2.0)\n",
      "Requirement already satisfied: httpcore==1.* in c:\\users\\arpit srivastava\\appdata\\local\\programs\\python\\python310\\lib\\site-packages (from httpx>=0.25.0->jupyterlab<4.3,>=4.2.0->notebook->jupyter->object_detection) (1.0.5)\n",
      "Requirement already satisfied: h11<0.15,>=0.13 in c:\\users\\arpit srivastava\\appdata\\local\\programs\\python\\python310\\lib\\site-packages (from httpcore==1.*->httpx>=0.25.0->jupyterlab<4.3,>=4.2.0->notebook->jupyter->object_detection) (0.14.0)\n",
      "Requirement already satisfied: parso<0.9.0,>=0.8.3 in c:\\users\\arpit srivastava\\appdata\\local\\programs\\python\\python310\\lib\\site-packages (from jedi>=0.16->ipython>=7.23.1->ipykernel->jupyter->object_detection) (0.8.4)\n",
      "Requirement already satisfied: attrs>=22.2.0 in c:\\users\\arpit srivastava\\appdata\\local\\programs\\python\\python310\\lib\\site-packages (from jsonschema>=4.18.0->jupyterlab-server<3,>=2.27.1->notebook->jupyter->object_detection) (23.2.0)\n",
      "Requirement already satisfied: jsonschema-specifications>=2023.03.6 in c:\\users\\arpit srivastava\\appdata\\local\\programs\\python\\python310\\lib\\site-packages (from jsonschema>=4.18.0->jupyterlab-server<3,>=2.27.1->notebook->jupyter->object_detection) (2023.12.1)\n",
      "Requirement already satisfied: referencing>=0.28.4 in c:\\users\\arpit srivastava\\appdata\\local\\programs\\python\\python310\\lib\\site-packages (from jsonschema>=4.18.0->jupyterlab-server<3,>=2.27.1->notebook->jupyter->object_detection) (0.35.1)\n",
      "Requirement already satisfied: rpds-py>=0.7.1 in c:\\users\\arpit srivastava\\appdata\\local\\programs\\python\\python310\\lib\\site-packages (from jsonschema>=4.18.0->jupyterlab-server<3,>=2.27.1->notebook->jupyter->object_detection) (0.19.0)\n",
      "Requirement already satisfied: python-json-logger>=2.0.4 in c:\\users\\arpit srivastava\\appdata\\local\\programs\\python\\python310\\lib\\site-packages (from jupyter-events>=0.9.0->jupyter-server<3,>=2.4.0->notebook->jupyter->object_detection) (2.0.7)\n",
      "Requirement already satisfied: pyyaml>=5.3 in c:\\users\\arpit srivastava\\appdata\\local\\programs\\python\\python310\\lib\\site-packages (from jupyter-events>=0.9.0->jupyter-server<3,>=2.4.0->notebook->jupyter->object_detection) (6.0.1)\n",
      "Requirement already satisfied: rfc3339-validator in c:\\users\\arpit srivastava\\appdata\\local\\programs\\python\\python310\\lib\\site-packages (from jupyter-events>=0.9.0->jupyter-server<3,>=2.4.0->notebook->jupyter->object_detection) (0.1.4)\n",
      "Requirement already satisfied: rfc3986-validator>=0.1.1 in c:\\users\\arpit srivastava\\appdata\\local\\programs\\python\\python310\\lib\\site-packages (from jupyter-events>=0.9.0->jupyter-server<3,>=2.4.0->notebook->jupyter->object_detection) (0.1.1)\n",
      "Requirement already satisfied: markdown-it-py>=2.2.0 in c:\\users\\arpit srivastava\\appdata\\local\\programs\\python\\python310\\lib\\site-packages (from rich->keras>=3.5.0->tensorflow-intel==2.18.0->tensorflow->object_detection) (3.0.0)\n",
      "Requirement already satisfied: executing>=1.2.0 in c:\\users\\arpit srivastava\\appdata\\local\\programs\\python\\python310\\lib\\site-packages (from stack-data->ipython>=7.23.1->ipykernel->jupyter->object_detection) (2.0.1)\n",
      "Requirement already satisfied: asttokens>=2.1.0 in c:\\users\\arpit srivastava\\appdata\\local\\programs\\python\\python310\\lib\\site-packages (from stack-data->ipython>=7.23.1->ipykernel->jupyter->object_detection) (2.4.1)\n",
      "Requirement already satisfied: pure-eval in c:\\users\\arpit srivastava\\appdata\\local\\programs\\python\\python310\\lib\\site-packages (from stack-data->ipython>=7.23.1->ipykernel->jupyter->object_detection) (0.2.2)\n",
      "Requirement already satisfied: fqdn in c:\\users\\arpit srivastava\\appdata\\local\\programs\\python\\python310\\lib\\site-packages (from jsonschema[format-nongpl]>=4.18.0->jupyter-events>=0.9.0->jupyter-server<3,>=2.4.0->notebook->jupyter->object_detection) (1.5.1)\n",
      "Requirement already satisfied: isoduration in c:\\users\\arpit srivastava\\appdata\\local\\programs\\python\\python310\\lib\\site-packages (from jsonschema[format-nongpl]>=4.18.0->jupyter-events>=0.9.0->jupyter-server<3,>=2.4.0->notebook->jupyter->object_detection) (20.11.0)\n",
      "Requirement already satisfied: jsonpointer>1.13 in c:\\users\\arpit srivastava\\appdata\\local\\programs\\python\\python310\\lib\\site-packages (from jsonschema[format-nongpl]>=4.18.0->jupyter-events>=0.9.0->jupyter-server<3,>=2.4.0->notebook->jupyter->object_detection) (3.0.0)\n",
      "Requirement already satisfied: uri-template in c:\\users\\arpit srivastava\\appdata\\local\\programs\\python\\python310\\lib\\site-packages (from jsonschema[format-nongpl]>=4.18.0->jupyter-events>=0.9.0->jupyter-server<3,>=2.4.0->notebook->jupyter->object_detection) (1.3.0)\n",
      "Requirement already satisfied: webcolors>=24.6.0 in c:\\users\\arpit srivastava\\appdata\\local\\programs\\python\\python310\\lib\\site-packages (from jsonschema[format-nongpl]>=4.18.0->jupyter-events>=0.9.0->jupyter-server<3,>=2.4.0->notebook->jupyter->object_detection) (24.6.0)\n",
      "Requirement already satisfied: mdurl~=0.1 in c:\\users\\arpit srivastava\\appdata\\local\\programs\\python\\python310\\lib\\site-packages (from markdown-it-py>=2.2.0->rich->keras>=3.5.0->tensorflow-intel==2.18.0->tensorflow->object_detection) (0.1.2)\n",
      "Requirement already satisfied: cffi>=1.0.1 in c:\\users\\arpit srivastava\\appdata\\local\\programs\\python\\python310\\lib\\site-packages (from argon2-cffi-bindings->argon2-cffi>=21.1->jupyter-server<3,>=2.4.0->notebook->jupyter->object_detection) (1.16.0)\n",
      "Requirement already satisfied: pycparser in c:\\users\\arpit srivastava\\appdata\\local\\programs\\python\\python310\\lib\\site-packages (from cffi>=1.0.1->argon2-cffi-bindings->argon2-cffi>=21.1->jupyter-server<3,>=2.4.0->notebook->jupyter->object_detection) (2.22)\n",
      "Requirement already satisfied: arrow>=0.15.0 in c:\\users\\arpit srivastava\\appdata\\local\\programs\\python\\python310\\lib\\site-packages (from isoduration->jsonschema[format-nongpl]>=4.18.0->jupyter-events>=0.9.0->jupyter-server<3,>=2.4.0->notebook->jupyter->object_detection) (1.3.0)\n",
      "Requirement already satisfied: types-python-dateutil>=2.8.10 in c:\\users\\arpit srivastava\\appdata\\local\\programs\\python\\python310\\lib\\site-packages (from arrow>=0.15.0->isoduration->jsonschema[format-nongpl]>=4.18.0->jupyter-events>=0.9.0->jupyter-server<3,>=2.4.0->notebook->jupyter->object_detection) (2.9.0.20240316)\n",
      "Downloading object_detection-0.0.3-py3-none-any.whl (1.5 MB)\n",
      "   ---------------------------------------- 0.0/1.5 MB ? eta -:--:--\n",
      "   ------- -------------------------------- 0.3/1.5 MB ? eta -:--:--\n",
      "   -------------- ------------------------- 0.5/1.5 MB 1.2 MB/s eta 0:00:01\n",
      "   --------------------- ------------------ 0.8/1.5 MB 1.2 MB/s eta 0:00:01\n",
      "   ---------------------------- ----------- 1.0/1.5 MB 1.3 MB/s eta 0:00:01\n",
      "   ----------------------------------- ---- 1.3/1.5 MB 1.3 MB/s eta 0:00:01\n",
      "   ---------------------------------------- 1.5/1.5 MB 1.2 MB/s eta 0:00:00\n",
      "Downloading contextlib2-21.6.0-py2.py3-none-any.whl (13 kB)\n",
      "Downloading Cython-3.0.11-cp310-cp310-win_amd64.whl (2.8 MB)\n",
      "   ---------------------------------------- 0.0/2.8 MB ? eta -:--:--\n",
      "   --- ------------------------------------ 0.3/2.8 MB ? eta -:--:--\n",
      "   ------- -------------------------------- 0.5/2.8 MB 1.5 MB/s eta 0:00:02\n",
      "   ----------- ---------------------------- 0.8/2.8 MB 1.2 MB/s eta 0:00:02\n",
      "   ----------- ---------------------------- 0.8/2.8 MB 1.2 MB/s eta 0:00:02\n",
      "   ------------------ --------------------- 1.3/2.8 MB 1.2 MB/s eta 0:00:02\n",
      "   ---------------------- ----------------- 1.6/2.8 MB 1.2 MB/s eta 0:00:01\n",
      "   -------------------------- ------------- 1.8/2.8 MB 1.2 MB/s eta 0:00:01\n",
      "   ------------------------------ --------- 2.1/2.8 MB 1.2 MB/s eta 0:00:01\n",
      "   --------------------------------- ------ 2.4/2.8 MB 1.2 MB/s eta 0:00:01\n",
      "   ------------------------------------- -- 2.6/2.8 MB 1.3 MB/s eta 0:00:01\n",
      "   ---------------------------------------- 2.8/2.8 MB 1.2 MB/s eta 0:00:00\n",
      "Downloading lxml-5.3.0-cp310-cp310-win_amd64.whl (3.8 MB)\n",
      "   ---------------------------------------- 0.0/3.8 MB ? eta -:--:--\n",
      "   -- ------------------------------------- 0.3/3.8 MB ? eta -:--:--\n",
      "   ----- ---------------------------------- 0.5/3.8 MB 1.3 MB/s eta 0:00:03\n",
      "   -------- ------------------------------- 0.8/3.8 MB 1.3 MB/s eta 0:00:03\n",
      "   ----------- ---------------------------- 1.0/3.8 MB 1.2 MB/s eta 0:00:03\n",
      "   ------------- -------------------------- 1.3/3.8 MB 1.3 MB/s eta 0:00:02\n",
      "   ---------------- ----------------------- 1.6/3.8 MB 1.3 MB/s eta 0:00:02\n",
      "   ------------------- -------------------- 1.8/3.8 MB 1.2 MB/s eta 0:00:02\n",
      "   ---------------------- ----------------- 2.1/3.8 MB 1.3 MB/s eta 0:00:02\n",
      "   ------------------------ --------------- 2.4/3.8 MB 1.3 MB/s eta 0:00:02\n",
      "   --------------------------- ------------ 2.6/3.8 MB 1.3 MB/s eta 0:00:01\n",
      "   ------------------------------ --------- 2.9/3.8 MB 1.3 MB/s eta 0:00:01\n",
      "   --------------------------------- ------ 3.1/3.8 MB 1.3 MB/s eta 0:00:01\n",
      "   ----------------------------------- ---- 3.4/3.8 MB 1.3 MB/s eta 0:00:01\n",
      "   ---------------------------------------- 3.8/3.8 MB 1.3 MB/s eta 0:00:00\n",
      "Installing collected packages: lxml, Cython, contextlib2, object_detection\n",
      "Successfully installed Cython-3.0.11 contextlib2-21.6.0 lxml-5.3.0 object_detection-0.0.3\n"
     ]
    }
   ],
   "source": [
    "!pip install object_detection"
   ]
  },
  {
   "cell_type": "code",
   "execution_count": null,
   "id": "c59e685e-579c-4509-900e-214abc093757",
   "metadata": {},
   "outputs": [],
   "source": [
    "import requests\n",
    "import tensorflow as tf\n",
    "from PIL import Image\n",
    "from object_detection.utils import visualization_utils as viz_utils\n",
    "\n",
    "# Download image\n",
    "url = 'https://media.istockphoto.com/id/2039918088/photo/happy-african-american-woman-using-tablet-on-a-cozy-sofa-at-home.jpg?s=1024x1024&w=is&k=20&c=-rdFcTOcILfROUzuBoVmZbEaNAApqSRXjblyHz6CeOY='\n",
    "image = Image.open(requests.get(url, stream=True).raw)\n",
    "\n",
    "# Load model\n",
    "detect_fn = tf.saved_model.load(\"object_detection.ipynb\")\n",
    "\n",
    "# Preprocess image\n",
    "image_np = np.array(image)\n",
    "input_tensor = tf.convert_to_tensor(image_np)[tf.newaxis, ...]\n",
    "\n",
    "# Run inference\n",
    "detections = detect_fn(input_tensor)\n",
    "\n",
    "# Visualize detections\n",
    "viz_utils.visualize_boxes_and_labels_on_image_array(\n",
    "    image_np,\n",
    "    detections['detection_boxes'][0].numpy(),\n",
    "    detections['detection_classes'][0].numpy().astype(int),\n",
    "    detections['detection_scores'][0].numpy(),\n",
    "    category_index,\n",
    "    use_normalized_coordinates=True,\n",
    "    line_thickness=3,\n",
    ")\n",
    "\n",
    "Image.fromarray(image_np)\n"
   ]
  },
  {
   "cell_type": "markdown",
   "id": "164b887e-8530-48cf-96ee-0244cb022f92",
   "metadata": {},
   "source": [
    "5. How do you install TensorFlow Object Detection API in Jupyter Notebook?"
   ]
  },
  {
   "cell_type": "code",
   "execution_count": 25,
   "id": "07ad6827-4c84-4337-9c03-8c5ba5d080d0",
   "metadata": {},
   "outputs": [
    {
     "name": "stdout",
     "output_type": "stream",
     "text": [
      "Requirement already satisfied: tensorflow in c:\\users\\arpit srivastava\\appdata\\local\\programs\\python\\python310\\lib\\site-packages (2.18.0)\n",
      "Requirement already satisfied: numpy in c:\\users\\arpit srivastava\\appdata\\local\\programs\\python\\python310\\lib\\site-packages (2.0.2)\n",
      "Requirement already satisfied: pillow in c:\\users\\arpit srivastava\\appdata\\local\\programs\\python\\python310\\lib\\site-packages (10.4.0)\n",
      "Requirement already satisfied: matplotlib in c:\\users\\arpit srivastava\\appdata\\local\\programs\\python\\python310\\lib\\site-packages (3.9.1)\n",
      "Requirement already satisfied: tensorflow-intel==2.18.0 in c:\\users\\arpit srivastava\\appdata\\local\\programs\\python\\python310\\lib\\site-packages (from tensorflow) (2.18.0)\n",
      "Requirement already satisfied: absl-py>=1.0.0 in c:\\users\\arpit srivastava\\appdata\\local\\programs\\python\\python310\\lib\\site-packages (from tensorflow-intel==2.18.0->tensorflow) (2.1.0)\n",
      "Requirement already satisfied: astunparse>=1.6.0 in c:\\users\\arpit srivastava\\appdata\\local\\programs\\python\\python310\\lib\\site-packages (from tensorflow-intel==2.18.0->tensorflow) (1.6.3)\n",
      "Requirement already satisfied: flatbuffers>=24.3.25 in c:\\users\\arpit srivastava\\appdata\\local\\programs\\python\\python310\\lib\\site-packages (from tensorflow-intel==2.18.0->tensorflow) (24.3.25)\n",
      "Requirement already satisfied: gast!=0.5.0,!=0.5.1,!=0.5.2,>=0.2.1 in c:\\users\\arpit srivastava\\appdata\\local\\programs\\python\\python310\\lib\\site-packages (from tensorflow-intel==2.18.0->tensorflow) (0.6.0)\n",
      "Requirement already satisfied: google-pasta>=0.1.1 in c:\\users\\arpit srivastava\\appdata\\local\\programs\\python\\python310\\lib\\site-packages (from tensorflow-intel==2.18.0->tensorflow) (0.2.0)\n",
      "Requirement already satisfied: libclang>=13.0.0 in c:\\users\\arpit srivastava\\appdata\\local\\programs\\python\\python310\\lib\\site-packages (from tensorflow-intel==2.18.0->tensorflow) (18.1.1)\n",
      "Requirement already satisfied: opt-einsum>=2.3.2 in c:\\users\\arpit srivastava\\appdata\\local\\programs\\python\\python310\\lib\\site-packages (from tensorflow-intel==2.18.0->tensorflow) (3.4.0)\n",
      "Requirement already satisfied: packaging in c:\\users\\arpit srivastava\\appdata\\local\\programs\\python\\python310\\lib\\site-packages (from tensorflow-intel==2.18.0->tensorflow) (24.1)\n",
      "Requirement already satisfied: protobuf!=4.21.0,!=4.21.1,!=4.21.2,!=4.21.3,!=4.21.4,!=4.21.5,<6.0.0dev,>=3.20.3 in c:\\users\\arpit srivastava\\appdata\\local\\programs\\python\\python310\\lib\\site-packages (from tensorflow-intel==2.18.0->tensorflow) (5.28.3)\n",
      "Requirement already satisfied: requests<3,>=2.21.0 in c:\\users\\arpit srivastava\\appdata\\local\\programs\\python\\python310\\lib\\site-packages (from tensorflow-intel==2.18.0->tensorflow) (2.32.3)\n",
      "Requirement already satisfied: setuptools in c:\\users\\arpit srivastava\\appdata\\local\\programs\\python\\python310\\lib\\site-packages (from tensorflow-intel==2.18.0->tensorflow) (57.4.0)\n",
      "Requirement already satisfied: six>=1.12.0 in c:\\users\\arpit srivastava\\appdata\\local\\programs\\python\\python310\\lib\\site-packages (from tensorflow-intel==2.18.0->tensorflow) (1.16.0)\n",
      "Requirement already satisfied: termcolor>=1.1.0 in c:\\users\\arpit srivastava\\appdata\\local\\programs\\python\\python310\\lib\\site-packages (from tensorflow-intel==2.18.0->tensorflow) (2.5.0)\n",
      "Requirement already satisfied: typing-extensions>=3.6.6 in c:\\users\\arpit srivastava\\appdata\\local\\programs\\python\\python310\\lib\\site-packages (from tensorflow-intel==2.18.0->tensorflow) (4.12.2)\n",
      "Requirement already satisfied: wrapt>=1.11.0 in c:\\users\\arpit srivastava\\appdata\\local\\programs\\python\\python310\\lib\\site-packages (from tensorflow-intel==2.18.0->tensorflow) (1.16.0)\n",
      "Requirement already satisfied: grpcio<2.0,>=1.24.3 in c:\\users\\arpit srivastava\\appdata\\local\\programs\\python\\python310\\lib\\site-packages (from tensorflow-intel==2.18.0->tensorflow) (1.67.1)\n",
      "Requirement already satisfied: tensorboard<2.19,>=2.18 in c:\\users\\arpit srivastava\\appdata\\local\\programs\\python\\python310\\lib\\site-packages (from tensorflow-intel==2.18.0->tensorflow) (2.18.0)\n",
      "Requirement already satisfied: keras>=3.5.0 in c:\\users\\arpit srivastava\\appdata\\local\\programs\\python\\python310\\lib\\site-packages (from tensorflow-intel==2.18.0->tensorflow) (3.6.0)\n",
      "Requirement already satisfied: h5py>=3.11.0 in c:\\users\\arpit srivastava\\appdata\\local\\programs\\python\\python310\\lib\\site-packages (from tensorflow-intel==2.18.0->tensorflow) (3.12.1)\n",
      "Requirement already satisfied: ml-dtypes<0.5.0,>=0.4.0 in c:\\users\\arpit srivastava\\appdata\\local\\programs\\python\\python310\\lib\\site-packages (from tensorflow-intel==2.18.0->tensorflow) (0.4.1)\n",
      "Requirement already satisfied: tensorflow-io-gcs-filesystem>=0.23.1 in c:\\users\\arpit srivastava\\appdata\\local\\programs\\python\\python310\\lib\\site-packages (from tensorflow-intel==2.18.0->tensorflow) (0.31.0)\n",
      "Requirement already satisfied: contourpy>=1.0.1 in c:\\users\\arpit srivastava\\appdata\\local\\programs\\python\\python310\\lib\\site-packages (from matplotlib) (1.2.1)\n",
      "Requirement already satisfied: cycler>=0.10 in c:\\users\\arpit srivastava\\appdata\\local\\programs\\python\\python310\\lib\\site-packages (from matplotlib) (0.12.1)\n",
      "Requirement already satisfied: fonttools>=4.22.0 in c:\\users\\arpit srivastava\\appdata\\local\\programs\\python\\python310\\lib\\site-packages (from matplotlib) (4.53.1)\n",
      "Requirement already satisfied: kiwisolver>=1.3.1 in c:\\users\\arpit srivastava\\appdata\\local\\programs\\python\\python310\\lib\\site-packages (from matplotlib) (1.4.5)\n",
      "Requirement already satisfied: pyparsing>=2.3.1 in c:\\users\\arpit srivastava\\appdata\\local\\programs\\python\\python310\\lib\\site-packages (from matplotlib) (3.1.2)\n",
      "Requirement already satisfied: python-dateutil>=2.7 in c:\\users\\arpit srivastava\\appdata\\local\\programs\\python\\python310\\lib\\site-packages (from matplotlib) (2.8.2)\n",
      "Requirement already satisfied: wheel<1.0,>=0.23.0 in c:\\users\\arpit srivastava\\appdata\\local\\programs\\python\\python310\\lib\\site-packages (from astunparse>=1.6.0->tensorflow-intel==2.18.0->tensorflow) (0.44.0)\n",
      "Requirement already satisfied: rich in c:\\users\\arpit srivastava\\appdata\\local\\programs\\python\\python310\\lib\\site-packages (from keras>=3.5.0->tensorflow-intel==2.18.0->tensorflow) (13.9.4)\n",
      "Requirement already satisfied: namex in c:\\users\\arpit srivastava\\appdata\\local\\programs\\python\\python310\\lib\\site-packages (from keras>=3.5.0->tensorflow-intel==2.18.0->tensorflow) (0.0.8)\n",
      "Requirement already satisfied: optree in c:\\users\\arpit srivastava\\appdata\\local\\programs\\python\\python310\\lib\\site-packages (from keras>=3.5.0->tensorflow-intel==2.18.0->tensorflow) (0.13.0)\n",
      "Requirement already satisfied: charset-normalizer<4,>=2 in c:\\users\\arpit srivastava\\appdata\\local\\programs\\python\\python310\\lib\\site-packages (from requests<3,>=2.21.0->tensorflow-intel==2.18.0->tensorflow) (3.3.2)\n",
      "Requirement already satisfied: idna<4,>=2.5 in c:\\users\\arpit srivastava\\appdata\\local\\programs\\python\\python310\\lib\\site-packages (from requests<3,>=2.21.0->tensorflow-intel==2.18.0->tensorflow) (3.7)\n",
      "Requirement already satisfied: urllib3<3,>=1.21.1 in c:\\users\\arpit srivastava\\appdata\\local\\programs\\python\\python310\\lib\\site-packages (from requests<3,>=2.21.0->tensorflow-intel==2.18.0->tensorflow) (2.2.2)\n",
      "Requirement already satisfied: certifi>=2017.4.17 in c:\\users\\arpit srivastava\\appdata\\local\\programs\\python\\python310\\lib\\site-packages (from requests<3,>=2.21.0->tensorflow-intel==2.18.0->tensorflow) (2024.7.4)\n",
      "Requirement already satisfied: markdown>=2.6.8 in c:\\users\\arpit srivastava\\appdata\\local\\programs\\python\\python310\\lib\\site-packages (from tensorboard<2.19,>=2.18->tensorflow-intel==2.18.0->tensorflow) (3.7)\n",
      "Requirement already satisfied: tensorboard-data-server<0.8.0,>=0.7.0 in c:\\users\\arpit srivastava\\appdata\\local\\programs\\python\\python310\\lib\\site-packages (from tensorboard<2.19,>=2.18->tensorflow-intel==2.18.0->tensorflow) (0.7.2)\n",
      "Requirement already satisfied: werkzeug>=1.0.1 in c:\\users\\arpit srivastava\\appdata\\local\\programs\\python\\python310\\lib\\site-packages (from tensorboard<2.19,>=2.18->tensorflow-intel==2.18.0->tensorflow) (3.1.2)\n",
      "Requirement already satisfied: MarkupSafe>=2.1.1 in c:\\users\\arpit srivastava\\appdata\\local\\programs\\python\\python310\\lib\\site-packages (from werkzeug>=1.0.1->tensorboard<2.19,>=2.18->tensorflow-intel==2.18.0->tensorflow) (2.1.5)\n",
      "Requirement already satisfied: markdown-it-py>=2.2.0 in c:\\users\\arpit srivastava\\appdata\\local\\programs\\python\\python310\\lib\\site-packages (from rich->keras>=3.5.0->tensorflow-intel==2.18.0->tensorflow) (3.0.0)\n",
      "Requirement already satisfied: pygments<3.0.0,>=2.13.0 in c:\\users\\arpit srivastava\\appdata\\local\\programs\\python\\python310\\lib\\site-packages (from rich->keras>=3.5.0->tensorflow-intel==2.18.0->tensorflow) (2.18.0)\n",
      "Requirement already satisfied: mdurl~=0.1 in c:\\users\\arpit srivastava\\appdata\\local\\programs\\python\\python310\\lib\\site-packages (from markdown-it-py>=2.2.0->rich->keras>=3.5.0->tensorflow-intel==2.18.0->tensorflow) (0.1.2)\n"
     ]
    }
   ],
   "source": [
    "#Install dependencies:\n",
    "!pip install tensorflow numpy pillow matplotlib\n"
   ]
  },
  {
   "cell_type": "markdown",
   "id": "dfde0d38-c0b7-446d-8c2b-1ff542051213",
   "metadata": {},
   "source": [
    "#Clone and set up the API:\n",
    "git clone https://github.com/tensorflow/models.git\n",
    "cd models/research\n",
    "protoc object_detection/protos/*.proto --python_out=.\n",
    "pip install ."
   ]
  },
  {
   "cell_type": "markdown",
   "id": "2127ab14-3e2f-4429-97e8-23d53c257516",
   "metadata": {},
   "source": [
    "6. How can you load a pre-trained TensorFlow Object Detection model?"
   ]
  },
  {
   "cell_type": "code",
   "execution_count": null,
   "id": "5a963e79-6821-42a3-8839-c33ce39f0f58",
   "metadata": {},
   "outputs": [],
   "source": [
    "import tensorflow as tf\n",
    "model = tf.saved_model.load(\"object_detection.ipynb\")\n"
   ]
  },
  {
   "cell_type": "markdown",
   "id": "4e55aee5-3feb-4e6f-aedc-44f7fa140837",
   "metadata": {},
   "source": [
    "7. How do you preprocess an image from the web for TFOD2 inference?"
   ]
  },
  {
   "cell_type": "code",
   "execution_count": 27,
   "id": "9218d506-995b-41fc-b086-a02149927668",
   "metadata": {},
   "outputs": [],
   "source": [
    "import numpy as np\n",
    "from PIL import Image\n",
    "\n",
    "url = 'https://media.istockphoto.com/id/2039918088/photo/happy-african-american-woman-using-tablet-on-a-cozy-sofa-at-home.jpg?s=1024x1024&w=is&k=20&c=-rdFcTOcILfROUzuBoVmZbEaNAApqSRXjblyHz6CeOY='\n",
    "image = Image.open(requests.get(url, stream=True).raw)\n",
    "image_np = np.array(image)\n",
    "input_tensor = tf.convert_to_tensor(image_np)[tf.newaxis, ...]\n"
   ]
  },
  {
   "cell_type": "markdown",
   "id": "16583e79-2328-4087-bfda-9daeffe46ece",
   "metadata": {},
   "source": [
    "8. How do you visualize bounding boxes for detected objects in TFOD2 inference?\n",
    "Use the visualization_utils library:"
   ]
  },
  {
   "cell_type": "code",
   "execution_count": null,
   "id": "b2a81386-54da-475b-9e14-7463dc1e63d8",
   "metadata": {},
   "outputs": [],
   "source": [
    "from object_detection.utils import visualization_utils as viz_utils\n",
    "\n",
    "viz_utils.visualize_boxes_and_labels_on_image_array(\n",
    "    image_np,\n",
    "    detections['detection_boxes'][0].numpy(),\n",
    "    detections['detection_classes'][0].numpy().astype(int),\n",
    "    detections['detection_scores'][0].numpy(),\n",
    "    category_index,\n",
    "    use_normalized_coordinates=True,\n",
    "    line_thickness=3,\n",
    ")"
   ]
  },
  {
   "cell_type": "markdown",
   "id": "a0e23507-9be4-4af1-892d-f75ae421326a",
   "metadata": {},
   "source": [
    "9. How do you define classes for custom training in TFOD2?\n",
    "Create a label map file (label_map.pbtxt):"
   ]
  },
  {
   "cell_type": "code",
   "execution_count": null,
   "id": "bc58f91e-2899-431b-b729-816334780111",
   "metadata": {},
   "outputs": [],
   "source": [
    "'''\n",
    "item {\n",
    "  id: 1\n",
    "  name: 'class_name_1'\n",
    "}\n",
    "item {\n",
    "  id: 2\n",
    "  name: 'class_name_2'\n",
    "}\n",
    "'''"
   ]
  },
  {
   "cell_type": "markdown",
   "id": "73d5ae27-c814-44a8-87e2-b411d307f679",
   "metadata": {},
   "source": [
    "10. How do you resize an image before detecting objects?"
   ]
  },
  {
   "cell_type": "code",
   "execution_count": null,
   "id": "16a81ee8-f785-450e-9185-de570141e520",
   "metadata": {},
   "outputs": [],
   "source": [
    "resized_image = cv2.resize(image_np, (300, 300))  # Specify target size\n"
   ]
  },
  {
   "cell_type": "markdown",
   "id": "c1e61b53-21bc-45da-8ef7-a75ddf17ac4b",
   "metadata": {},
   "source": [
    "11. How can you apply a color filter (e.g., red filter) to an image?"
   ]
  },
  {
   "cell_type": "code",
   "execution_count": 11,
   "id": "79b58e08-37d2-45c5-b205-478a583cbf12",
   "metadata": {},
   "outputs": [],
   "source": [
    "from PIL import ImageEnhance\n",
    "\n",
    "image = Image.open(\"download (1).jpeg\")\n",
    "enhancer = ImageEnhance.Color(image)\n",
    "red_image = enhancer.enhance(2.0)  # Increase red intensity\n"
   ]
  },
  {
   "cell_type": "code",
   "execution_count": null,
   "id": "93a319cf-1f62-416b-98a9-488bd8104d74",
   "metadata": {},
   "outputs": [],
   "source": []
  }
 ],
 "metadata": {
  "kernelspec": {
   "display_name": "Python 3 (ipykernel)",
   "language": "python",
   "name": "python3"
  },
  "language_info": {
   "codemirror_mode": {
    "name": "ipython",
    "version": 3
   },
   "file_extension": ".py",
   "mimetype": "text/x-python",
   "name": "python",
   "nbconvert_exporter": "python",
   "pygments_lexer": "ipython3",
   "version": "3.10.0"
  }
 },
 "nbformat": 4,
 "nbformat_minor": 5
}
